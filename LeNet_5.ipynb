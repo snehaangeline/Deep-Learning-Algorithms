{
  "cells": [
    {
      "cell_type": "markdown",
      "metadata": {
        "id": "view-in-github",
        "colab_type": "text"
      },
      "source": [
        "<a href=\"https://colab.research.google.com/github/snehaangeline/Deep-Learning-Algorithms/blob/main/LeNet_5.ipynb\" target=\"_parent\"><img src=\"https://colab.research.google.com/assets/colab-badge.svg\" alt=\"Open In Colab\"/></a>"
      ]
    },
    {
      "cell_type": "code",
      "execution_count": null,
      "metadata": {
        "id": "knhVwlGp1ocn"
      },
      "outputs": [],
      "source": [
        "import keras\n",
        "from keras.datasets import mnist\n",
        "from keras.models import Sequential\n",
        "from keras.layers import Conv2D, AvgPool2D, Flatten, Dense\n",
        "from tensorflow.keras.optimizers import Adam\n",
        "from tensorflow.keras.utils import to_categorical\n",
        "from keras.utils.vis_utils import plot_model\n",
        "\n"
      ]
    },
    {
      "cell_type": "code",
      "execution_count": null,
      "metadata": {
        "id": "TN6y8uAQ22W9"
      },
      "outputs": [],
      "source": [
        "(train_x, train_y), (test_x, test_y) = mnist.load_data()"
      ]
    },
    {
      "cell_type": "code",
      "execution_count": null,
      "metadata": {
        "id": "t3gc-olk4BxT",
        "colab": {
          "base_uri": "https://localhost:8080/"
        },
        "outputId": "636f44fc-dea2-4264-faa4-fe516b8fb108"
      },
      "outputs": [
        {
          "output_type": "stream",
          "name": "stdout",
          "text": [
            "The size of train_x is: (60000, 28, 28)\n",
            "The size of train_y is: (60000,)\n",
            "The size of test_x is: (10000, 28, 28)\n",
            "The size of test_y is: (10000,)\n"
          ]
        }
      ],
      "source": [
        "print(\"The size of train_x is: {}\".format(train_x.shape))\n",
        "print(\"The size of train_y is: {}\".format(train_y.shape))\n",
        "\n",
        "print(\"The size of test_x is: {}\".format(test_x.shape))\n",
        "print(\"The size of test_y is: {}\".format(test_y.shape))"
      ]
    },
    {
      "cell_type": "code",
      "execution_count": null,
      "metadata": {
        "id": "sPLHaEXv4Hg8"
      },
      "outputs": [],
      "source": [
        "train_x = train_x.reshape(train_x.shape[0], 28, 28, 1)\n",
        "test_x = test_x.reshape(test_x.shape[0], 28, 28, 1)"
      ]
    },
    {
      "cell_type": "code",
      "execution_count": null,
      "metadata": {
        "id": "REU558h94Rct"
      },
      "outputs": [],
      "source": [
        "train_x = train_x/255.0\n",
        "test_x = test_x/255.0"
      ]
    },
    {
      "cell_type": "code",
      "execution_count": null,
      "metadata": {
        "id": "fTHJ119m4Wh4"
      },
      "outputs": [],
      "source": [
        "train_y = to_categorical(train_y, num_classes=10)\n",
        "test_y = to_categorical(test_y, num_classes=10)"
      ]
    },
    {
      "cell_type": "code",
      "execution_count": null,
      "metadata": {
        "colab": {
          "base_uri": "https://localhost:8080/"
        },
        "id": "S65tlsrQ4bUq",
        "outputId": "d7f48528-d8f7-4516-94c7-0fddaf9b2ac7"
      },
      "outputs": [
        {
          "output_type": "stream",
          "name": "stdout",
          "text": [
            "Model: \"sequential_1\"\n",
            "_________________________________________________________________\n",
            " Layer (type)                Output Shape              Param #   \n",
            "=================================================================\n",
            " conv2d_2 (Conv2D)           (None, 24, 24, 6)         156       \n",
            "                                                                 \n",
            " average_pooling2d_2 (Averag  (None, 12, 12, 6)        0         \n",
            " ePooling2D)                                                     \n",
            "                                                                 \n",
            " conv2d_3 (Conv2D)           (None, 8, 8, 16)          2416      \n",
            "                                                                 \n",
            " average_pooling2d_3 (Averag  (None, 4, 4, 16)         0         \n",
            " ePooling2D)                                                     \n",
            "                                                                 \n",
            " flatten_1 (Flatten)         (None, 256)               0         \n",
            "                                                                 \n",
            " dense_2 (Dense)             (None, 120)               30840     \n",
            "                                                                 \n",
            " dense_3 (Dense)             (None, 10)                1210      \n",
            "                                                                 \n",
            "=================================================================\n",
            "Total params: 34,622\n",
            "Trainable params: 34,622\n",
            "Non-trainable params: 0\n",
            "_________________________________________________________________\n"
          ]
        }
      ],
      "source": [
        "model = Sequential()\n",
        "model.add(Conv2D(filters=6, kernel_size=(5,5), padding='valid',\n",
        "                 input_shape=(28,28,1), activation='tanh'))\n",
        "model.add(AvgPool2D(pool_size=(2,2)))\n",
        "model.add(Conv2D(filters=16, kernel_size=(5,5), padding='valid', activation='tanh'))\n",
        "model.add(AvgPool2D(pool_size=(2,2)))\n",
        "model.add(Flatten())\n",
        "model.add(Dense(120, activation='tanh'))\n",
        "model.add(Dense(10, activation='softmax'))\n",
        "\n",
        "model.summary()"
      ]
    },
    {
      "cell_type": "code",
      "source": [
        "model.compile(loss='categorical_crossentropy', optimizer=Adam(), metrics=['accuracy'])\n",
        "\n",
        "model.fit(train_x, train_y, batch_size=128, epochs=20, verbose=1, validation_data=(test_x, test_y))"
      ],
      "metadata": {
        "colab": {
          "base_uri": "https://localhost:8080/"
        },
        "id": "rsRuWE8P8gWn",
        "outputId": "6a277340-64b9-4071-b421-2d737c7aeb5c"
      },
      "execution_count": null,
      "outputs": [
        {
          "output_type": "stream",
          "name": "stdout",
          "text": [
            "Epoch 1/20\n",
            "469/469 [==============================] - 5s 8ms/step - loss: 0.3860 - accuracy: 0.8922 - val_loss: 0.1711 - val_accuracy: 0.9488\n",
            "Epoch 2/20\n",
            "469/469 [==============================] - 4s 7ms/step - loss: 0.1409 - accuracy: 0.9582 - val_loss: 0.1064 - val_accuracy: 0.9686\n",
            "Epoch 3/20\n",
            "469/469 [==============================] - 2s 4ms/step - loss: 0.0948 - accuracy: 0.9719 - val_loss: 0.0765 - val_accuracy: 0.9764\n",
            "Epoch 4/20\n",
            "469/469 [==============================] - 2s 5ms/step - loss: 0.0722 - accuracy: 0.9785 - val_loss: 0.0635 - val_accuracy: 0.9807\n",
            "Epoch 5/20\n",
            "469/469 [==============================] - 2s 5ms/step - loss: 0.0581 - accuracy: 0.9828 - val_loss: 0.0552 - val_accuracy: 0.9827\n",
            "Epoch 6/20\n",
            "469/469 [==============================] - 2s 4ms/step - loss: 0.0482 - accuracy: 0.9860 - val_loss: 0.0561 - val_accuracy: 0.9836\n",
            "Epoch 7/20\n",
            "469/469 [==============================] - 2s 5ms/step - loss: 0.0419 - accuracy: 0.9876 - val_loss: 0.0473 - val_accuracy: 0.9854\n",
            "Epoch 8/20\n",
            "469/469 [==============================] - 2s 5ms/step - loss: 0.0364 - accuracy: 0.9896 - val_loss: 0.0463 - val_accuracy: 0.9856\n",
            "Epoch 9/20\n",
            "469/469 [==============================] - 2s 5ms/step - loss: 0.0312 - accuracy: 0.9908 - val_loss: 0.0475 - val_accuracy: 0.9852\n",
            "Epoch 10/20\n",
            "469/469 [==============================] - 2s 4ms/step - loss: 0.0280 - accuracy: 0.9921 - val_loss: 0.0425 - val_accuracy: 0.9854\n",
            "Epoch 11/20\n",
            "469/469 [==============================] - 2s 4ms/step - loss: 0.0247 - accuracy: 0.9927 - val_loss: 0.0414 - val_accuracy: 0.9859\n",
            "Epoch 12/20\n",
            "469/469 [==============================] - 2s 4ms/step - loss: 0.0219 - accuracy: 0.9936 - val_loss: 0.0409 - val_accuracy: 0.9861\n",
            "Epoch 13/20\n",
            "469/469 [==============================] - 2s 4ms/step - loss: 0.0186 - accuracy: 0.9949 - val_loss: 0.0410 - val_accuracy: 0.9859\n",
            "Epoch 14/20\n",
            "469/469 [==============================] - 2s 5ms/step - loss: 0.0170 - accuracy: 0.9950 - val_loss: 0.0389 - val_accuracy: 0.9874\n",
            "Epoch 15/20\n",
            "469/469 [==============================] - 2s 4ms/step - loss: 0.0151 - accuracy: 0.9961 - val_loss: 0.0405 - val_accuracy: 0.9860\n",
            "Epoch 16/20\n",
            "469/469 [==============================] - 2s 5ms/step - loss: 0.0137 - accuracy: 0.9963 - val_loss: 0.0379 - val_accuracy: 0.9882\n",
            "Epoch 17/20\n",
            "469/469 [==============================] - 2s 4ms/step - loss: 0.0125 - accuracy: 0.9969 - val_loss: 0.0387 - val_accuracy: 0.9876\n",
            "Epoch 18/20\n",
            "469/469 [==============================] - 2s 4ms/step - loss: 0.0102 - accuracy: 0.9975 - val_loss: 0.0424 - val_accuracy: 0.9864\n",
            "Epoch 19/20\n",
            "469/469 [==============================] - 2s 5ms/step - loss: 0.0093 - accuracy: 0.9978 - val_loss: 0.0406 - val_accuracy: 0.9877\n",
            "Epoch 20/20\n",
            "469/469 [==============================] - 2s 5ms/step - loss: 0.0086 - accuracy: 0.9980 - val_loss: 0.0376 - val_accuracy: 0.9882\n"
          ]
        },
        {
          "output_type": "execute_result",
          "data": {
            "text/plain": [
              "<keras.callbacks.History at 0x7f0e4c387f90>"
            ]
          },
          "metadata": {},
          "execution_count": 19
        }
      ]
    },
    {
      "cell_type": "code",
      "source": [
        "score = model.evaluate(test_x, test_y)\n",
        "print(score)\n",
        "#print('Test Loss:', score[0])\n",
        "#print('Test accuracy:', score[1])"
      ],
      "metadata": {
        "colab": {
          "base_uri": "https://localhost:8080/"
        },
        "id": "aTjtEj8Z8nRL",
        "outputId": "c47b88f3-2114-48ca-df13-55d35c401570"
      },
      "execution_count": null,
      "outputs": [
        {
          "output_type": "stream",
          "name": "stdout",
          "text": [
            "313/313 [==============================] - 1s 3ms/step - loss: 0.0376 - accuracy: 0.9882\n",
            "[0.03764320909976959, 0.9882000088691711]\n"
          ]
        }
      ]
    },
    {
      "cell_type": "code",
      "source": [],
      "metadata": {
        "id": "lLjD6DzA_DHH"
      },
      "execution_count": null,
      "outputs": []
    }
  ],
  "metadata": {
    "colab": {
      "provenance": [],
      "authorship_tag": "ABX9TyObbg9XYgy+/qE3g7iczAXE",
      "include_colab_link": true
    },
    "kernelspec": {
      "display_name": "Python 3",
      "name": "python3"
    },
    "language_info": {
      "name": "python"
    },
    "accelerator": "GPU",
    "gpuClass": "standard"
  },
  "nbformat": 4,
  "nbformat_minor": 0
}